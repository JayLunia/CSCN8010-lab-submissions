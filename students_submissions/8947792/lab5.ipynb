{
 "cells": [
  {
   "cell_type": "markdown",
   "metadata": {},
   "source": [
    "# Lab __5__\n",
    "## Name: __Jay lunia__\n",
    "## Student ID: __8947792__"
   ]
  },
  {
   "cell_type": "code",
   "execution_count": 1,
   "metadata": {},
   "outputs": [],
   "source": [
    "# Importing the necessary libraries\n",
    "\n",
    "# Basic library\n",
    "import numpy as np\n",
    "import pandas as pd\n",
    "\n",
    "# For Visualization\n",
    "import matplotlib.pyplot as plt\n",
    "import seaborn as sns\n",
    "\n",
    "# For loading the dataset\n",
    "from sklearn import datasets\n",
    "\n",
    "# For val train test split\n",
    "from sklearn.model_selection import train_test_split\n",
    "\n",
    "# For Modeling\n",
    "from sklearn.linear_model import LinearRegression\n",
    "\n",
    "# For getting polynomialFeatures\n",
    "from sklearn.preprocessing import PolynomialFeatures\n",
    "\n",
    "# For Cross Validation\n",
    "from sklearn.model_selection import cross_validate\n",
    "\n",
    "# For Making Pipeline\n",
    "from sklearn.pipeline import Pipeline\n",
    "\n",
    "# For Reviewing all the models \n",
    "from sklearn.metrics import mean_absolute_error , mean_absolute_percentage_error , r2_score\n"
   ]
  },
  {
   "cell_type": "markdown",
   "metadata": {},
   "source": [
    "## Loading the dataset"
   ]
  },
  {
   "cell_type": "code",
   "execution_count": 2,
   "metadata": {},
   "outputs": [],
   "source": [
    "X, y = datasets.load_diabetes(return_X_y=True, as_frame=True , scaled=True) \n",
    "# returns 2 dataframes \n",
    "# 1. X(indepedent values) \n",
    "# 2. y(depedent value)"
   ]
  },
  {
   "cell_type": "code",
   "execution_count": 3,
   "metadata": {},
   "outputs": [
    {
     "data": {
      "text/html": [
       "<div>\n",
       "<style scoped>\n",
       "    .dataframe tbody tr th:only-of-type {\n",
       "        vertical-align: middle;\n",
       "    }\n",
       "\n",
       "    .dataframe tbody tr th {\n",
       "        vertical-align: top;\n",
       "    }\n",
       "\n",
       "    .dataframe thead th {\n",
       "        text-align: right;\n",
       "    }\n",
       "</style>\n",
       "<table border=\"1\" class=\"dataframe\">\n",
       "  <thead>\n",
       "    <tr style=\"text-align: right;\">\n",
       "      <th></th>\n",
       "      <th>age</th>\n",
       "      <th>sex</th>\n",
       "      <th>bmi</th>\n",
       "      <th>bp</th>\n",
       "      <th>s1</th>\n",
       "      <th>s2</th>\n",
       "      <th>s3</th>\n",
       "      <th>s4</th>\n",
       "      <th>s5</th>\n",
       "      <th>s6</th>\n",
       "    </tr>\n",
       "  </thead>\n",
       "  <tbody>\n",
       "    <tr>\n",
       "      <th>0</th>\n",
       "      <td>0.038076</td>\n",
       "      <td>0.050680</td>\n",
       "      <td>0.061696</td>\n",
       "      <td>0.021872</td>\n",
       "      <td>-0.044223</td>\n",
       "      <td>-0.034821</td>\n",
       "      <td>-0.043401</td>\n",
       "      <td>-0.002592</td>\n",
       "      <td>0.019907</td>\n",
       "      <td>-0.017646</td>\n",
       "    </tr>\n",
       "    <tr>\n",
       "      <th>1</th>\n",
       "      <td>-0.001882</td>\n",
       "      <td>-0.044642</td>\n",
       "      <td>-0.051474</td>\n",
       "      <td>-0.026328</td>\n",
       "      <td>-0.008449</td>\n",
       "      <td>-0.019163</td>\n",
       "      <td>0.074412</td>\n",
       "      <td>-0.039493</td>\n",
       "      <td>-0.068332</td>\n",
       "      <td>-0.092204</td>\n",
       "    </tr>\n",
       "    <tr>\n",
       "      <th>2</th>\n",
       "      <td>0.085299</td>\n",
       "      <td>0.050680</td>\n",
       "      <td>0.044451</td>\n",
       "      <td>-0.005670</td>\n",
       "      <td>-0.045599</td>\n",
       "      <td>-0.034194</td>\n",
       "      <td>-0.032356</td>\n",
       "      <td>-0.002592</td>\n",
       "      <td>0.002861</td>\n",
       "      <td>-0.025930</td>\n",
       "    </tr>\n",
       "    <tr>\n",
       "      <th>3</th>\n",
       "      <td>-0.089063</td>\n",
       "      <td>-0.044642</td>\n",
       "      <td>-0.011595</td>\n",
       "      <td>-0.036656</td>\n",
       "      <td>0.012191</td>\n",
       "      <td>0.024991</td>\n",
       "      <td>-0.036038</td>\n",
       "      <td>0.034309</td>\n",
       "      <td>0.022688</td>\n",
       "      <td>-0.009362</td>\n",
       "    </tr>\n",
       "    <tr>\n",
       "      <th>4</th>\n",
       "      <td>0.005383</td>\n",
       "      <td>-0.044642</td>\n",
       "      <td>-0.036385</td>\n",
       "      <td>0.021872</td>\n",
       "      <td>0.003935</td>\n",
       "      <td>0.015596</td>\n",
       "      <td>0.008142</td>\n",
       "      <td>-0.002592</td>\n",
       "      <td>-0.031988</td>\n",
       "      <td>-0.046641</td>\n",
       "    </tr>\n",
       "  </tbody>\n",
       "</table>\n",
       "</div>"
      ],
      "text/plain": [
       "        age       sex       bmi        bp        s1        s2        s3   \n",
       "0  0.038076  0.050680  0.061696  0.021872 -0.044223 -0.034821 -0.043401  \\\n",
       "1 -0.001882 -0.044642 -0.051474 -0.026328 -0.008449 -0.019163  0.074412   \n",
       "2  0.085299  0.050680  0.044451 -0.005670 -0.045599 -0.034194 -0.032356   \n",
       "3 -0.089063 -0.044642 -0.011595 -0.036656  0.012191  0.024991 -0.036038   \n",
       "4  0.005383 -0.044642 -0.036385  0.021872  0.003935  0.015596  0.008142   \n",
       "\n",
       "         s4        s5        s6  \n",
       "0 -0.002592  0.019907 -0.017646  \n",
       "1 -0.039493 -0.068332 -0.092204  \n",
       "2 -0.002592  0.002861 -0.025930  \n",
       "3  0.034309  0.022688 -0.009362  \n",
       "4 -0.002592 -0.031988 -0.046641  "
      ]
     },
     "execution_count": 3,
     "metadata": {},
     "output_type": "execute_result"
    }
   ],
   "source": [
    "X.head()"
   ]
  },
  {
   "cell_type": "code",
   "execution_count": 4,
   "metadata": {},
   "outputs": [
    {
     "data": {
      "text/plain": [
       "0    151.0\n",
       "1     75.0\n",
       "2    141.0\n",
       "3    206.0\n",
       "4    135.0\n",
       "Name: target, dtype: float64"
      ]
     },
     "execution_count": 4,
     "metadata": {},
     "output_type": "execute_result"
    }
   ],
   "source": [
    "y.head()"
   ]
  },
  {
   "cell_type": "code",
   "execution_count": 5,
   "metadata": {},
   "outputs": [
    {
     "data": {
      "text/plain": [
       "((442, 10), (442,))"
      ]
     },
     "execution_count": 5,
     "metadata": {},
     "output_type": "execute_result"
    }
   ],
   "source": [
    "X.shape , y.shape # There are total 442 rows in the dataset"
   ]
  },
  {
   "cell_type": "markdown",
   "metadata": {},
   "source": [
    "## Get the data, and run a train-test split"
   ]
  },
  {
   "cell_type": "code",
   "execution_count": 6,
   "metadata": {},
   "outputs": [],
   "source": [
    "X_train, X_test, y_train, y_test = train_test_split(X, y, test_size=0.2, random_state=100)"
   ]
  },
  {
   "cell_type": "code",
   "execution_count": 7,
   "metadata": {},
   "outputs": [
    {
     "data": {
      "text/plain": [
       "((442, 10), (442,))"
      ]
     },
     "execution_count": 7,
     "metadata": {},
     "output_type": "execute_result"
    }
   ],
   "source": [
    "X.shape , y.shape # There are total 442 rows in the dataset"
   ]
  },
  {
   "cell_type": "markdown",
   "metadata": {},
   "source": [
    "__Make only `train and test` dataset as in cross validation we will use the training data and it will split the data into training and validation__"
   ]
  },
  {
   "cell_type": "markdown",
   "metadata": {},
   "source": [
    "<img src=\"https://scikit-learn.org/stable/_images/grid_search_cross_validation.png\">"
   ]
  },
  {
   "cell_type": "code",
   "execution_count": 8,
   "metadata": {},
   "outputs": [],
   "source": [
    "# Making function for building a pipeline\n",
    "def makeModelPipe(d,bias=False):\n",
    "    model = Pipeline([('polynomial', PolynomialFeatures(degree=d , include_bias=bias)), \n",
    "                    ('linear', LinearRegression())])\n",
    "    return model"
   ]
  },
  {
   "cell_type": "markdown",
   "metadata": {},
   "source": [
    "### 1. Perform cross-validation on nine polynomial models, ranging from degree 0 to 8."
   ]
  },
  {
   "cell_type": "code",
   "execution_count": 9,
   "metadata": {},
   "outputs": [
    {
     "name": "stderr",
     "output_type": "stream",
     "text": [
      "[Parallel(n_jobs=-1)]: Using backend LokyBackend with 8 concurrent workers.\n",
      "[Parallel(n_jobs=-1)]: Done   7 out of  10 | elapsed:   12.2s remaining:    5.2s\n",
      "[Parallel(n_jobs=-1)]: Done  10 out of  10 | elapsed:   12.3s finished\n",
      "[Parallel(n_jobs=-1)]: Using backend LokyBackend with 8 concurrent workers.\n",
      "[Parallel(n_jobs=-1)]: Done   7 out of  10 | elapsed:    0.0s remaining:    0.0s\n",
      "[Parallel(n_jobs=-1)]: Done  10 out of  10 | elapsed:    0.0s finished\n",
      "[Parallel(n_jobs=-1)]: Using backend LokyBackend with 8 concurrent workers.\n",
      "[Parallel(n_jobs=-1)]: Done   7 out of  10 | elapsed:    0.0s remaining:    0.0s\n",
      "[Parallel(n_jobs=-1)]: Done  10 out of  10 | elapsed:    0.0s finished\n",
      "[Parallel(n_jobs=-1)]: Using backend LokyBackend with 8 concurrent workers.\n",
      "[Parallel(n_jobs=-1)]: Done   7 out of  10 | elapsed:    0.0s remaining:    0.0s\n",
      "[Parallel(n_jobs=-1)]: Done  10 out of  10 | elapsed:    0.0s finished\n",
      "[Parallel(n_jobs=-1)]: Using backend LokyBackend with 8 concurrent workers.\n",
      "[Parallel(n_jobs=-1)]: Done   7 out of  10 | elapsed:    0.2s remaining:    0.0s\n",
      "[Parallel(n_jobs=-1)]: Done  10 out of  10 | elapsed:    0.2s finished\n",
      "[Parallel(n_jobs=-1)]: Using backend LokyBackend with 8 concurrent workers.\n",
      "[Parallel(n_jobs=-1)]: Done   7 out of  10 | elapsed:    2.2s remaining:    0.9s\n",
      "[Parallel(n_jobs=-1)]: Done  10 out of  10 | elapsed:    2.8s finished\n",
      "[Parallel(n_jobs=-1)]: Using backend LokyBackend with 8 concurrent workers.\n",
      "[Parallel(n_jobs=-1)]: Done   7 out of  10 | elapsed:    6.9s remaining:    2.9s\n",
      "[Parallel(n_jobs=-1)]: Done  10 out of  10 | elapsed:    8.0s finished\n",
      "[Parallel(n_jobs=-1)]: Using backend LokyBackend with 8 concurrent workers.\n",
      "[Parallel(n_jobs=-1)]: Done   7 out of  10 | elapsed:   12.5s remaining:    5.3s\n",
      "[Parallel(n_jobs=-1)]: Done  10 out of  10 | elapsed:   15.9s finished\n",
      "[Parallel(n_jobs=-1)]: Using backend LokyBackend with 8 concurrent workers.\n",
      "[Parallel(n_jobs=-1)]: Done   7 out of  10 | elapsed:   28.9s remaining:   12.3s\n",
      "[Parallel(n_jobs=-1)]: Done  10 out of  10 | elapsed:   37.3s finished\n"
     ]
    }
   ],
   "source": [
    "model = {}\n",
    "scores = {}\n",
    "_scoring = ['r2','neg_mean_absolute_error','neg_mean_absolute_percentage_error'] # Scores we need\n",
    "for i in range(9): #making total of 9 models with 0-8 degrees\n",
    "    if(i == 0):\n",
    "        model[i] = makeModelPipe(i,True)\n",
    "    else:\n",
    "        model[i] = makeModelPipe(i)\n",
    "    scores[i] = cross_validate(model[i], X_train, y_train, \n",
    "                               cv=10, # Making 10 cross-validation splits for each model\n",
    "                               scoring = _scoring, \n",
    "                               n_jobs=-1, \n",
    "                               verbose=2)"
   ]
  },
  {
   "cell_type": "markdown",
   "metadata": {},
   "source": [
    "__Got the scoring options from <a href='https://scikit-learn.org/stable/modules/model_evaluation.html#scoring'>here</a>__"
   ]
  },
  {
   "cell_type": "markdown",
   "metadata": {},
   "source": [
    "### 2. Construct a table summarizing the cross-validation results. Each model should have a separate row in the table. Include the R-Squared, Mean Absolute Error (MAE) and MAPE metrics for each model. Calculate the mean value and standard deviation of these metrics from the cross-validation. Include both values"
   ]
  },
  {
   "cell_type": "markdown",
   "metadata": {},
   "source": [
    "__Converting the scores data into the dataframe__<br>\n",
    "_however this is a `3 dimensional` array so we need to convert it into 2-D_\n",
    "- cols = number of models degree\n",
    "- rows = the scores data\n",
    "- each row =  It is a array of size `10` where the scores of each model is given for each different training-validation split is made"
   ]
  },
  {
   "cell_type": "code",
   "execution_count": 10,
   "metadata": {},
   "outputs": [
    {
     "data": {
      "text/html": [
       "<div>\n",
       "<style scoped>\n",
       "    .dataframe tbody tr th:only-of-type {\n",
       "        vertical-align: middle;\n",
       "    }\n",
       "\n",
       "    .dataframe tbody tr th {\n",
       "        vertical-align: top;\n",
       "    }\n",
       "\n",
       "    .dataframe thead th {\n",
       "        text-align: right;\n",
       "    }\n",
       "</style>\n",
       "<table border=\"1\" class=\"dataframe\">\n",
       "  <thead>\n",
       "    <tr style=\"text-align: right;\">\n",
       "      <th></th>\n",
       "      <th>0</th>\n",
       "      <th>1</th>\n",
       "      <th>2</th>\n",
       "      <th>3</th>\n",
       "      <th>4</th>\n",
       "      <th>5</th>\n",
       "      <th>6</th>\n",
       "      <th>7</th>\n",
       "      <th>8</th>\n",
       "    </tr>\n",
       "  </thead>\n",
       "  <tbody>\n",
       "    <tr>\n",
       "      <th>fit_time</th>\n",
       "      <td>[0.12530064582824707, 0.12630176544189453, 0.1...</td>\n",
       "      <td>[0.07199859619140625, 0.07099509239196777, 0.0...</td>\n",
       "      <td>[0.0749974250793457, 0.06697654724121094, 0.07...</td>\n",
       "      <td>[0.07001256942749023, 0.059003591537475586, 0....</td>\n",
       "      <td>[0.19001007080078125, 0.2170100212097168, 0.19...</td>\n",
       "      <td>[1.627007007598877, 2.191009283065796, 2.45303...</td>\n",
       "      <td>[6.947003364562988, 5.249987602233887, 5.94199...</td>\n",
       "      <td>[12.441995859146118, 11.94399905204773, 12.642...</td>\n",
       "      <td>[28.958528995513916, 28.941531658172607, 27.99...</td>\n",
       "    </tr>\n",
       "    <tr>\n",
       "      <th>score_time</th>\n",
       "      <td>[0.01615428924560547, 0.015153169631958008, 0....</td>\n",
       "      <td>[0.024013996124267578, 0.012018680572509766, 0...</td>\n",
       "      <td>[0.007001161575317383, 0.008020401000976562, 0...</td>\n",
       "      <td>[0.007000923156738281, 0.005002498626708984, 0...</td>\n",
       "      <td>[0.009996414184570312, 0.013001203536987305, 0...</td>\n",
       "      <td>[0.02700948715209961, 0.017001628875732422, 0....</td>\n",
       "      <td>[0.01902174949645996, 0.05500459671020508, 0.0...</td>\n",
       "      <td>[0.029016494750976562, 0.04899740219116211, 0....</td>\n",
       "      <td>[0.07700610160827637, 0.07601523399353027, 0.0...</td>\n",
       "    </tr>\n",
       "    <tr>\n",
       "      <th>test_r2</th>\n",
       "      <td>[-0.025615525898048164, -0.048373111741410346,...</td>\n",
       "      <td>[0.5160535228524309, 0.49612696616477014, 0.50...</td>\n",
       "      <td>[0.2891775559704235, 0.47227790517172763, 0.15...</td>\n",
       "      <td>[-166.96342605515184, -460.50076346556494, -21...</td>\n",
       "      <td>[-33.10150119368257, -88.2316885570975, -138.6...</td>\n",
       "      <td>[-29.605090002284005, -86.52838468222888, -119...</td>\n",
       "      <td>[-29.600064929762375, -86.49300692809105, -119...</td>\n",
       "      <td>[-29.600387518910352, -86.49241689040721, -119...</td>\n",
       "      <td>[-29.40203185920863, -86.49236737863072, -119....</td>\n",
       "    </tr>\n",
       "    <tr>\n",
       "      <th>test_neg_mean_absolute_error</th>\n",
       "      <td>[-66.19575885033298, -56.74886084822994, -66.7...</td>\n",
       "      <td>[-43.14293285833509, -39.09282763608994, -42.2...</td>\n",
       "      <td>[-51.13678347828271, -38.83805221806236, -52.2...</td>\n",
       "      <td>[-304.87396663508935, -561.4288206245186, -227...</td>\n",
       "      <td>[-292.2028048095121, -361.8785482829723, -458....</td>\n",
       "      <td>[-280.3436789453083, -358.9130836702312, -430....</td>\n",
       "      <td>[-280.34021359899714, -358.93581367349486, -43...</td>\n",
       "      <td>[-280.3441163285009, -358.93630767149534, -430...</td>\n",
       "      <td>[-280.74257901777855, -358.93633041079994, -43...</td>\n",
       "    </tr>\n",
       "    <tr>\n",
       "      <th>test_neg_mean_absolute_percentage_error</th>\n",
       "      <td>[-0.7694444146154952, -0.5811836306195994, -0....</td>\n",
       "      <td>[-0.45432695421872993, -0.3490844347651525, -0...</td>\n",
       "      <td>[-0.47437703061776243, -0.3401918313108824, -0...</td>\n",
       "      <td>[-2.1717132188594923, -4.7994574447746015, -2....</td>\n",
       "      <td>[-3.415228998165721, -3.450134518975473, -3.97...</td>\n",
       "      <td>[-3.332698003881296, -3.4020043860636733, -3.7...</td>\n",
       "      <td>[-3.332285506143309, -3.401908911978449, -3.77...</td>\n",
       "      <td>[-3.3323232749264458, -3.401904643281048, -3.7...</td>\n",
       "      <td>[-3.3460495410983535, -3.4019048988982323, -3....</td>\n",
       "    </tr>\n",
       "  </tbody>\n",
       "</table>\n",
       "</div>"
      ],
      "text/plain": [
       "                                                                                         0   \n",
       "fit_time                                 [0.12530064582824707, 0.12630176544189453, 0.1...  \\\n",
       "score_time                               [0.01615428924560547, 0.015153169631958008, 0....   \n",
       "test_r2                                  [-0.025615525898048164, -0.048373111741410346,...   \n",
       "test_neg_mean_absolute_error             [-66.19575885033298, -56.74886084822994, -66.7...   \n",
       "test_neg_mean_absolute_percentage_error  [-0.7694444146154952, -0.5811836306195994, -0....   \n",
       "\n",
       "                                                                                         1   \n",
       "fit_time                                 [0.07199859619140625, 0.07099509239196777, 0.0...  \\\n",
       "score_time                               [0.024013996124267578, 0.012018680572509766, 0...   \n",
       "test_r2                                  [0.5160535228524309, 0.49612696616477014, 0.50...   \n",
       "test_neg_mean_absolute_error             [-43.14293285833509, -39.09282763608994, -42.2...   \n",
       "test_neg_mean_absolute_percentage_error  [-0.45432695421872993, -0.3490844347651525, -0...   \n",
       "\n",
       "                                                                                         2   \n",
       "fit_time                                 [0.0749974250793457, 0.06697654724121094, 0.07...  \\\n",
       "score_time                               [0.007001161575317383, 0.008020401000976562, 0...   \n",
       "test_r2                                  [0.2891775559704235, 0.47227790517172763, 0.15...   \n",
       "test_neg_mean_absolute_error             [-51.13678347828271, -38.83805221806236, -52.2...   \n",
       "test_neg_mean_absolute_percentage_error  [-0.47437703061776243, -0.3401918313108824, -0...   \n",
       "\n",
       "                                                                                         3   \n",
       "fit_time                                 [0.07001256942749023, 0.059003591537475586, 0....  \\\n",
       "score_time                               [0.007000923156738281, 0.005002498626708984, 0...   \n",
       "test_r2                                  [-166.96342605515184, -460.50076346556494, -21...   \n",
       "test_neg_mean_absolute_error             [-304.87396663508935, -561.4288206245186, -227...   \n",
       "test_neg_mean_absolute_percentage_error  [-2.1717132188594923, -4.7994574447746015, -2....   \n",
       "\n",
       "                                                                                         4   \n",
       "fit_time                                 [0.19001007080078125, 0.2170100212097168, 0.19...  \\\n",
       "score_time                               [0.009996414184570312, 0.013001203536987305, 0...   \n",
       "test_r2                                  [-33.10150119368257, -88.2316885570975, -138.6...   \n",
       "test_neg_mean_absolute_error             [-292.2028048095121, -361.8785482829723, -458....   \n",
       "test_neg_mean_absolute_percentage_error  [-3.415228998165721, -3.450134518975473, -3.97...   \n",
       "\n",
       "                                                                                         5   \n",
       "fit_time                                 [1.627007007598877, 2.191009283065796, 2.45303...  \\\n",
       "score_time                               [0.02700948715209961, 0.017001628875732422, 0....   \n",
       "test_r2                                  [-29.605090002284005, -86.52838468222888, -119...   \n",
       "test_neg_mean_absolute_error             [-280.3436789453083, -358.9130836702312, -430....   \n",
       "test_neg_mean_absolute_percentage_error  [-3.332698003881296, -3.4020043860636733, -3.7...   \n",
       "\n",
       "                                                                                         6   \n",
       "fit_time                                 [6.947003364562988, 5.249987602233887, 5.94199...  \\\n",
       "score_time                               [0.01902174949645996, 0.05500459671020508, 0.0...   \n",
       "test_r2                                  [-29.600064929762375, -86.49300692809105, -119...   \n",
       "test_neg_mean_absolute_error             [-280.34021359899714, -358.93581367349486, -43...   \n",
       "test_neg_mean_absolute_percentage_error  [-3.332285506143309, -3.401908911978449, -3.77...   \n",
       "\n",
       "                                                                                         7   \n",
       "fit_time                                 [12.441995859146118, 11.94399905204773, 12.642...  \\\n",
       "score_time                               [0.029016494750976562, 0.04899740219116211, 0....   \n",
       "test_r2                                  [-29.600387518910352, -86.49241689040721, -119...   \n",
       "test_neg_mean_absolute_error             [-280.3441163285009, -358.93630767149534, -430...   \n",
       "test_neg_mean_absolute_percentage_error  [-3.3323232749264458, -3.401904643281048, -3.7...   \n",
       "\n",
       "                                                                                         8  \n",
       "fit_time                                 [28.958528995513916, 28.941531658172607, 27.99...  \n",
       "score_time                               [0.07700610160827637, 0.07601523399353027, 0.0...  \n",
       "test_r2                                  [-29.40203185920863, -86.49236737863072, -119....  \n",
       "test_neg_mean_absolute_error             [-280.74257901777855, -358.93633041079994, -43...  \n",
       "test_neg_mean_absolute_percentage_error  [-3.3460495410983535, -3.4019048988982323, -3....  "
      ]
     },
     "execution_count": 10,
     "metadata": {},
     "output_type": "execute_result"
    }
   ],
   "source": [
    "scores_m_std = pd.DataFrame(scores)\n",
    "scores_m_std"
   ]
  },
  {
   "cell_type": "code",
   "execution_count": 11,
   "metadata": {},
   "outputs": [],
   "source": [
    "scores_copy = scores_m_std.copy() \n",
    "\n",
    "for c,col in enumerate(scores_copy):\n",
    "    for idx,row in enumerate(scores_copy[col]):\n",
    "        scores_copy.iloc[idx,c] = [scores_copy.iloc[idx,c].mean(),scores_copy.iloc[idx,c].std()]"
   ]
  },
  {
   "cell_type": "markdown",
   "metadata": {},
   "source": [
    "__Calculated the mean and the standard deviation of each model__"
   ]
  },
  {
   "cell_type": "code",
   "execution_count": 12,
   "metadata": {},
   "outputs": [
    {
     "data": {
      "text/html": [
       "<div>\n",
       "<style scoped>\n",
       "    .dataframe tbody tr th:only-of-type {\n",
       "        vertical-align: middle;\n",
       "    }\n",
       "\n",
       "    .dataframe tbody tr th {\n",
       "        vertical-align: top;\n",
       "    }\n",
       "\n",
       "    .dataframe thead th {\n",
       "        text-align: right;\n",
       "    }\n",
       "</style>\n",
       "<table border=\"1\" class=\"dataframe\">\n",
       "  <thead>\n",
       "    <tr style=\"text-align: right;\">\n",
       "      <th></th>\n",
       "      <th>test_r2</th>\n",
       "      <th>test_neg_mean_absolute_error</th>\n",
       "      <th>test_neg_mean_absolute_percentage_error</th>\n",
       "    </tr>\n",
       "  </thead>\n",
       "  <tbody>\n",
       "    <tr>\n",
       "      <th>0</th>\n",
       "      <td>[-0.03440138456124904, 0.02686173465735655]</td>\n",
       "      <td>[-66.73452476846143, 6.453801184049387]</td>\n",
       "      <td>[-0.6293930920712683, 0.10361681474028156]</td>\n",
       "    </tr>\n",
       "    <tr>\n",
       "      <th>1</th>\n",
       "      <td>[0.46210729103136294, 0.12142639637812595]</td>\n",
       "      <td>[-45.52071883346078, 5.043920220598886]</td>\n",
       "      <td>[-0.401160227137406, 0.05749295536490003]</td>\n",
       "    </tr>\n",
       "    <tr>\n",
       "      <th>2</th>\n",
       "      <td>[0.35906452332265376, 0.16261072470022894]</td>\n",
       "      <td>[-48.35107964213893, 6.160539304057348]</td>\n",
       "      <td>[-0.41641824386720544, 0.06479251170295464]</td>\n",
       "    </tr>\n",
       "    <tr>\n",
       "      <th>3</th>\n",
       "      <td>[-347.68142215869045, 644.8366505166546]</td>\n",
       "      <td>[-368.3391437562704, 214.18732466193532]</td>\n",
       "      <td>[-2.9599319363443284, 1.915904943356464]</td>\n",
       "    </tr>\n",
       "    <tr>\n",
       "      <th>4</th>\n",
       "      <td>[-43.87765089031509, 37.617770256979604]</td>\n",
       "      <td>[-298.24512597066445, 71.75087358912165]</td>\n",
       "      <td>[-2.512291708419431, 0.7869847417992494]</td>\n",
       "    </tr>\n",
       "    <tr>\n",
       "      <th>5</th>\n",
       "      <td>[-40.663944001196185, 33.31409440224908]</td>\n",
       "      <td>[-289.92558404302287, 67.20324989231904]</td>\n",
       "      <td>[-2.4654792249513355, 0.7496979719903665]</td>\n",
       "    </tr>\n",
       "    <tr>\n",
       "      <th>6</th>\n",
       "      <td>[-40.64836732993575, 33.303421727545945]</td>\n",
       "      <td>[-289.8950746972066, 67.19932777680964]</td>\n",
       "      <td>[-2.4652278976284974, 0.7497358561363989]</td>\n",
       "    </tr>\n",
       "    <tr>\n",
       "      <th>7</th>\n",
       "      <td>[-40.64823327812227, 33.30257116842996]</td>\n",
       "      <td>[-289.89500436176013, 67.1988556813432]</td>\n",
       "      <td>[-2.465240930894845, 0.7497322761564733]</td>\n",
       "    </tr>\n",
       "    <tr>\n",
       "      <th>8</th>\n",
       "      <td>[-40.63908449446582, 33.30175663453859]</td>\n",
       "      <td>[-289.9520593574372, 67.17959222223202]</td>\n",
       "      <td>[-2.466632859034017, 0.7513063299736152]</td>\n",
       "    </tr>\n",
       "  </tbody>\n",
       "</table>\n",
       "</div>"
      ],
      "text/plain": [
       "                                       test_r2   \n",
       "0  [-0.03440138456124904, 0.02686173465735655]  \\\n",
       "1   [0.46210729103136294, 0.12142639637812595]   \n",
       "2   [0.35906452332265376, 0.16261072470022894]   \n",
       "3     [-347.68142215869045, 644.8366505166546]   \n",
       "4     [-43.87765089031509, 37.617770256979604]   \n",
       "5     [-40.663944001196185, 33.31409440224908]   \n",
       "6     [-40.64836732993575, 33.303421727545945]   \n",
       "7      [-40.64823327812227, 33.30257116842996]   \n",
       "8      [-40.63908449446582, 33.30175663453859]   \n",
       "\n",
       "               test_neg_mean_absolute_error   \n",
       "0   [-66.73452476846143, 6.453801184049387]  \\\n",
       "1   [-45.52071883346078, 5.043920220598886]   \n",
       "2   [-48.35107964213893, 6.160539304057348]   \n",
       "3  [-368.3391437562704, 214.18732466193532]   \n",
       "4  [-298.24512597066445, 71.75087358912165]   \n",
       "5  [-289.92558404302287, 67.20324989231904]   \n",
       "6   [-289.8950746972066, 67.19932777680964]   \n",
       "7   [-289.89500436176013, 67.1988556813432]   \n",
       "8   [-289.9520593574372, 67.17959222223202]   \n",
       "\n",
       "       test_neg_mean_absolute_percentage_error  \n",
       "0   [-0.6293930920712683, 0.10361681474028156]  \n",
       "1    [-0.401160227137406, 0.05749295536490003]  \n",
       "2  [-0.41641824386720544, 0.06479251170295464]  \n",
       "3     [-2.9599319363443284, 1.915904943356464]  \n",
       "4     [-2.512291708419431, 0.7869847417992494]  \n",
       "5    [-2.4654792249513355, 0.7496979719903665]  \n",
       "6    [-2.4652278976284974, 0.7497358561363989]  \n",
       "7     [-2.465240930894845, 0.7497322761564733]  \n",
       "8     [-2.466632859034017, 0.7513063299736152]  "
      ]
     },
     "execution_count": 12,
     "metadata": {},
     "output_type": "execute_result"
    }
   ],
   "source": [
    "final_scores = scores_copy.T\n",
    "final_scores = final_scores[['test_r2','test_neg_mean_absolute_error','test_neg_mean_absolute_percentage_error']]\n",
    "final_scores"
   ]
  },
  {
   "cell_type": "markdown",
   "metadata": {},
   "source": [
    "__`Transposed` the data frame for better representation to the data frame__"
   ]
  },
  {
   "cell_type": "code",
   "execution_count": 13,
   "metadata": {},
   "outputs": [],
   "source": [
    "final_scores_2 = pd.DataFrame()\n",
    "for c,col in enumerate(final_scores):\n",
    "    for idx,row in enumerate(final_scores[col]):\n",
    "        # print(idx,row[0],row[1])\n",
    "        final_scores_2.loc[idx,f'{col}_mean'] = row[0]\n",
    "        final_scores_2.loc[idx,f'{col}_std'] = row[1]\n",
    "        "
   ]
  },
  {
   "cell_type": "markdown",
   "metadata": {},
   "source": [
    "__Making the `mean` and `std` as different columns__"
   ]
  },
  {
   "cell_type": "code",
   "execution_count": 14,
   "metadata": {},
   "outputs": [
    {
     "data": {
      "text/html": [
       "<div>\n",
       "<style scoped>\n",
       "    .dataframe tbody tr th:only-of-type {\n",
       "        vertical-align: middle;\n",
       "    }\n",
       "\n",
       "    .dataframe tbody tr th {\n",
       "        vertical-align: top;\n",
       "    }\n",
       "\n",
       "    .dataframe thead th {\n",
       "        text-align: right;\n",
       "    }\n",
       "</style>\n",
       "<table border=\"1\" class=\"dataframe\">\n",
       "  <thead>\n",
       "    <tr style=\"text-align: right;\">\n",
       "      <th></th>\n",
       "      <th>test_r2_mean</th>\n",
       "      <th>test_r2_std</th>\n",
       "      <th>test_neg_mean_absolute_error_mean</th>\n",
       "      <th>test_neg_mean_absolute_error_std</th>\n",
       "      <th>test_neg_mean_absolute_percentage_error_mean</th>\n",
       "      <th>test_neg_mean_absolute_percentage_error_std</th>\n",
       "    </tr>\n",
       "  </thead>\n",
       "  <tbody>\n",
       "    <tr>\n",
       "      <th>0</th>\n",
       "      <td>-0.034401</td>\n",
       "      <td>0.026862</td>\n",
       "      <td>-66.734525</td>\n",
       "      <td>6.453801</td>\n",
       "      <td>-0.629393</td>\n",
       "      <td>0.103617</td>\n",
       "    </tr>\n",
       "    <tr>\n",
       "      <th>1</th>\n",
       "      <td>0.462107</td>\n",
       "      <td>0.121426</td>\n",
       "      <td>-45.520719</td>\n",
       "      <td>5.043920</td>\n",
       "      <td>-0.401160</td>\n",
       "      <td>0.057493</td>\n",
       "    </tr>\n",
       "    <tr>\n",
       "      <th>2</th>\n",
       "      <td>0.359065</td>\n",
       "      <td>0.162611</td>\n",
       "      <td>-48.351080</td>\n",
       "      <td>6.160539</td>\n",
       "      <td>-0.416418</td>\n",
       "      <td>0.064793</td>\n",
       "    </tr>\n",
       "    <tr>\n",
       "      <th>3</th>\n",
       "      <td>-347.681422</td>\n",
       "      <td>644.836651</td>\n",
       "      <td>-368.339144</td>\n",
       "      <td>214.187325</td>\n",
       "      <td>-2.959932</td>\n",
       "      <td>1.915905</td>\n",
       "    </tr>\n",
       "    <tr>\n",
       "      <th>4</th>\n",
       "      <td>-43.877651</td>\n",
       "      <td>37.617770</td>\n",
       "      <td>-298.245126</td>\n",
       "      <td>71.750874</td>\n",
       "      <td>-2.512292</td>\n",
       "      <td>0.786985</td>\n",
       "    </tr>\n",
       "    <tr>\n",
       "      <th>5</th>\n",
       "      <td>-40.663944</td>\n",
       "      <td>33.314094</td>\n",
       "      <td>-289.925584</td>\n",
       "      <td>67.203250</td>\n",
       "      <td>-2.465479</td>\n",
       "      <td>0.749698</td>\n",
       "    </tr>\n",
       "    <tr>\n",
       "      <th>6</th>\n",
       "      <td>-40.648367</td>\n",
       "      <td>33.303422</td>\n",
       "      <td>-289.895075</td>\n",
       "      <td>67.199328</td>\n",
       "      <td>-2.465228</td>\n",
       "      <td>0.749736</td>\n",
       "    </tr>\n",
       "    <tr>\n",
       "      <th>7</th>\n",
       "      <td>-40.648233</td>\n",
       "      <td>33.302571</td>\n",
       "      <td>-289.895004</td>\n",
       "      <td>67.198856</td>\n",
       "      <td>-2.465241</td>\n",
       "      <td>0.749732</td>\n",
       "    </tr>\n",
       "    <tr>\n",
       "      <th>8</th>\n",
       "      <td>-40.639084</td>\n",
       "      <td>33.301757</td>\n",
       "      <td>-289.952059</td>\n",
       "      <td>67.179592</td>\n",
       "      <td>-2.466633</td>\n",
       "      <td>0.751306</td>\n",
       "    </tr>\n",
       "  </tbody>\n",
       "</table>\n",
       "</div>"
      ],
      "text/plain": [
       "   test_r2_mean  test_r2_std  test_neg_mean_absolute_error_mean   \n",
       "0     -0.034401     0.026862                         -66.734525  \\\n",
       "1      0.462107     0.121426                         -45.520719   \n",
       "2      0.359065     0.162611                         -48.351080   \n",
       "3   -347.681422   644.836651                        -368.339144   \n",
       "4    -43.877651    37.617770                        -298.245126   \n",
       "5    -40.663944    33.314094                        -289.925584   \n",
       "6    -40.648367    33.303422                        -289.895075   \n",
       "7    -40.648233    33.302571                        -289.895004   \n",
       "8    -40.639084    33.301757                        -289.952059   \n",
       "\n",
       "   test_neg_mean_absolute_error_std   \n",
       "0                          6.453801  \\\n",
       "1                          5.043920   \n",
       "2                          6.160539   \n",
       "3                        214.187325   \n",
       "4                         71.750874   \n",
       "5                         67.203250   \n",
       "6                         67.199328   \n",
       "7                         67.198856   \n",
       "8                         67.179592   \n",
       "\n",
       "   test_neg_mean_absolute_percentage_error_mean   \n",
       "0                                     -0.629393  \\\n",
       "1                                     -0.401160   \n",
       "2                                     -0.416418   \n",
       "3                                     -2.959932   \n",
       "4                                     -2.512292   \n",
       "5                                     -2.465479   \n",
       "6                                     -2.465228   \n",
       "7                                     -2.465241   \n",
       "8                                     -2.466633   \n",
       "\n",
       "   test_neg_mean_absolute_percentage_error_std  \n",
       "0                                     0.103617  \n",
       "1                                     0.057493  \n",
       "2                                     0.064793  \n",
       "3                                     1.915905  \n",
       "4                                     0.786985  \n",
       "5                                     0.749698  \n",
       "6                                     0.749736  \n",
       "7                                     0.749732  \n",
       "8                                     0.751306  "
      ]
     },
     "execution_count": 14,
     "metadata": {},
     "output_type": "execute_result"
    }
   ],
   "source": [
    "final_scores_2"
   ]
  },
  {
   "cell_type": "code",
   "execution_count": 15,
   "metadata": {},
   "outputs": [],
   "source": [
    "final_scores_2.rename(columns={'test_r2_mean':'r2_mean','test_r2_std':'r2_std','test_neg_mean_absolute_error_mean':'mae_mean','test_neg_mean_absolute_error_std':'mae_std','test_neg_mean_absolute_percentage_error_mean':'mape_mean','test_neg_mean_absolute_percentage_error_std':'mape_std'},inplace=True)"
   ]
  },
  {
   "cell_type": "code",
   "execution_count": 16,
   "metadata": {},
   "outputs": [],
   "source": [
    "final_scores_2.index.name = 'Polynomial Degree'"
   ]
  },
  {
   "cell_type": "code",
   "execution_count": 17,
   "metadata": {},
   "outputs": [],
   "source": [
    "final_scores_2.iloc[:,2:] =np.abs(final_scores_2.iloc[:,2:])"
   ]
  },
  {
   "cell_type": "markdown",
   "metadata": {},
   "source": [
    "- _`Renamed` the columns_\n",
    "- _`named` the index_\n",
    "- _make the `MAE` and `MAPE` positive_"
   ]
  },
  {
   "cell_type": "code",
   "execution_count": 18,
   "metadata": {},
   "outputs": [
    {
     "data": {
      "text/html": [
       "<div>\n",
       "<style scoped>\n",
       "    .dataframe tbody tr th:only-of-type {\n",
       "        vertical-align: middle;\n",
       "    }\n",
       "\n",
       "    .dataframe tbody tr th {\n",
       "        vertical-align: top;\n",
       "    }\n",
       "\n",
       "    .dataframe thead th {\n",
       "        text-align: right;\n",
       "    }\n",
       "</style>\n",
       "<table border=\"1\" class=\"dataframe\">\n",
       "  <thead>\n",
       "    <tr style=\"text-align: right;\">\n",
       "      <th></th>\n",
       "      <th>r2_mean</th>\n",
       "      <th>r2_std</th>\n",
       "      <th>mae_mean</th>\n",
       "      <th>mae_std</th>\n",
       "      <th>mape_mean</th>\n",
       "      <th>mape_std</th>\n",
       "    </tr>\n",
       "    <tr>\n",
       "      <th>Polynomial Degree</th>\n",
       "      <th></th>\n",
       "      <th></th>\n",
       "      <th></th>\n",
       "      <th></th>\n",
       "      <th></th>\n",
       "      <th></th>\n",
       "    </tr>\n",
       "  </thead>\n",
       "  <tbody>\n",
       "    <tr>\n",
       "      <th>0</th>\n",
       "      <td>-0.034401</td>\n",
       "      <td>0.026862</td>\n",
       "      <td>66.734525</td>\n",
       "      <td>6.453801</td>\n",
       "      <td>0.629393</td>\n",
       "      <td>0.103617</td>\n",
       "    </tr>\n",
       "    <tr>\n",
       "      <th>1</th>\n",
       "      <td>0.462107</td>\n",
       "      <td>0.121426</td>\n",
       "      <td>45.520719</td>\n",
       "      <td>5.043920</td>\n",
       "      <td>0.401160</td>\n",
       "      <td>0.057493</td>\n",
       "    </tr>\n",
       "    <tr>\n",
       "      <th>2</th>\n",
       "      <td>0.359065</td>\n",
       "      <td>0.162611</td>\n",
       "      <td>48.351080</td>\n",
       "      <td>6.160539</td>\n",
       "      <td>0.416418</td>\n",
       "      <td>0.064793</td>\n",
       "    </tr>\n",
       "    <tr>\n",
       "      <th>3</th>\n",
       "      <td>-347.681422</td>\n",
       "      <td>644.836651</td>\n",
       "      <td>368.339144</td>\n",
       "      <td>214.187325</td>\n",
       "      <td>2.959932</td>\n",
       "      <td>1.915905</td>\n",
       "    </tr>\n",
       "    <tr>\n",
       "      <th>4</th>\n",
       "      <td>-43.877651</td>\n",
       "      <td>37.617770</td>\n",
       "      <td>298.245126</td>\n",
       "      <td>71.750874</td>\n",
       "      <td>2.512292</td>\n",
       "      <td>0.786985</td>\n",
       "    </tr>\n",
       "    <tr>\n",
       "      <th>5</th>\n",
       "      <td>-40.663944</td>\n",
       "      <td>33.314094</td>\n",
       "      <td>289.925584</td>\n",
       "      <td>67.203250</td>\n",
       "      <td>2.465479</td>\n",
       "      <td>0.749698</td>\n",
       "    </tr>\n",
       "    <tr>\n",
       "      <th>6</th>\n",
       "      <td>-40.648367</td>\n",
       "      <td>33.303422</td>\n",
       "      <td>289.895075</td>\n",
       "      <td>67.199328</td>\n",
       "      <td>2.465228</td>\n",
       "      <td>0.749736</td>\n",
       "    </tr>\n",
       "    <tr>\n",
       "      <th>7</th>\n",
       "      <td>-40.648233</td>\n",
       "      <td>33.302571</td>\n",
       "      <td>289.895004</td>\n",
       "      <td>67.198856</td>\n",
       "      <td>2.465241</td>\n",
       "      <td>0.749732</td>\n",
       "    </tr>\n",
       "    <tr>\n",
       "      <th>8</th>\n",
       "      <td>-40.639084</td>\n",
       "      <td>33.301757</td>\n",
       "      <td>289.952059</td>\n",
       "      <td>67.179592</td>\n",
       "      <td>2.466633</td>\n",
       "      <td>0.751306</td>\n",
       "    </tr>\n",
       "  </tbody>\n",
       "</table>\n",
       "</div>"
      ],
      "text/plain": [
       "                      r2_mean      r2_std    mae_mean     mae_std  mape_mean   \n",
       "Polynomial Degree                                                              \n",
       "0                   -0.034401    0.026862   66.734525    6.453801   0.629393  \\\n",
       "1                    0.462107    0.121426   45.520719    5.043920   0.401160   \n",
       "2                    0.359065    0.162611   48.351080    6.160539   0.416418   \n",
       "3                 -347.681422  644.836651  368.339144  214.187325   2.959932   \n",
       "4                  -43.877651   37.617770  298.245126   71.750874   2.512292   \n",
       "5                  -40.663944   33.314094  289.925584   67.203250   2.465479   \n",
       "6                  -40.648367   33.303422  289.895075   67.199328   2.465228   \n",
       "7                  -40.648233   33.302571  289.895004   67.198856   2.465241   \n",
       "8                  -40.639084   33.301757  289.952059   67.179592   2.466633   \n",
       "\n",
       "                   mape_std  \n",
       "Polynomial Degree            \n",
       "0                  0.103617  \n",
       "1                  0.057493  \n",
       "2                  0.064793  \n",
       "3                  1.915905  \n",
       "4                  0.786985  \n",
       "5                  0.749698  \n",
       "6                  0.749736  \n",
       "7                  0.749732  \n",
       "8                  0.751306  "
      ]
     },
     "execution_count": 18,
     "metadata": {},
     "output_type": "execute_result"
    }
   ],
   "source": [
    "final_scores_2"
   ]
  },
  {
   "cell_type": "markdown",
   "metadata": {},
   "source": [
    "### 3. Identification of the Best Model: Identify the model that exhibits the highest performance based on the R-Squared, MAE and MAPE metrics. Provide an explanation for choosing this specific model. (1 points)"
   ]
  },
  {
   "cell_type": "markdown",
   "metadata": {},
   "source": [
    "#### Selecting the Multi Variant Linear Regression  model with `degree 2` because\n",
    "- It has the `highest R-squared value` (0.4621), indicating that it explains more of the variance in the target variable compared to the other models.\n",
    "\n",
    "- The Multivariate Linear Regression has the `lowest MAPE` (0.40), indicating that, on average, its predictions are closest to the actual values.\n",
    "\n",
    "- After analyzing the results, I recommend deploying the `Multi Variant Linear Regression` model with `degree-2` for it strikes a balance between capturing underlying patterns in the data (high R-squared) and making accurate predictions (relatively low MAE)."
   ]
  },
  {
   "cell_type": "code",
   "execution_count": 19,
   "metadata": {},
   "outputs": [],
   "source": [
    "model = makeModelPipe(1) #degree=1\n",
    "model.fit(X_train,y_train)\n",
    "y_pred = model.predict(X_test)"
   ]
  },
  {
   "cell_type": "markdown",
   "metadata": {},
   "source": [
    "### Analyzing the model on the `test data`"
   ]
  },
  {
   "cell_type": "code",
   "execution_count": 20,
   "metadata": {},
   "outputs": [],
   "source": [
    "def getMetrics(y,y_pred):\n",
    "    print(f'Mean Absolute Precentage error: {(mean_absolute_percentage_error(y, y_pred)*100):.2f}%')\n",
    "    print(f'Mean Absolute error: {mean_absolute_error(y, y_pred):.2f}')\n",
    "    print(f'The model is preforming {r2_score(y,y_pred)*100:.2f}% better than a navie model')"
   ]
  },
  {
   "cell_type": "code",
   "execution_count": 21,
   "metadata": {},
   "outputs": [
    {
     "name": "stdout",
     "output_type": "stream",
     "text": [
      "Mean Absolute Precentage error: 39.22%\n",
      "Mean Absolute error: 40.41\n",
      "The model is preforming 50.42% better than a navie model\n"
     ]
    }
   ],
   "source": [
    "getMetrics(y_test,y_pred)"
   ]
  },
  {
   "cell_type": "markdown",
   "metadata": {},
   "source": [
    "### 4. Additional analysis and interpretation of the models' performances. You may explore further insights beyond the required metrics. The analysis should provide at least one relevant insight about the choice of the best model, or about characteristics of the chosen one."
   ]
  },
  {
   "cell_type": "markdown",
   "metadata": {},
   "source": [
    "#### Visualizing the preformace of each model"
   ]
  },
  {
   "cell_type": "code",
   "execution_count": 22,
   "metadata": {},
   "outputs": [
    {
     "data": {
      "image/png": "[encoded data removed]",
      "text/plain": [
       "<Figure size 1500x700 with 6 Axes>"
      ]
     },
     "metadata": {},
     "output_type": "display_data"
    }
   ],
   "source": [
    "fig, ax = plt.subplots(3,2,figsize =[15,7], sharex=True)\n",
    "ax[0,0].set_title('r2_score Mean')\n",
    "ax[0,0].plot(final_scores_2['r2_mean'], marker='o', mfc='r')\n",
    "\n",
    "ax[0,1].set_title('r2_score Std')\n",
    "ax[0,1].plot(final_scores_2['r2_std'], marker='o', mfc='r')\n",
    "\n",
    "ax[1,0].set_title('MAE Mean')\n",
    "ax[1,0].plot(final_scores_2['mae_mean'], marker='o', mfc='r')\n",
    "\n",
    "ax[1,1].set_title('MAE Std')\n",
    "ax[1,1].plot(final_scores_2['mae_std'], marker='o', mfc='r')\n",
    "\n",
    "ax[2,0].set_title('MAPE Mean')\n",
    "ax[2,0].plot(final_scores_2['mape_mean'], marker='o', mfc='r')\n",
    "\n",
    "ax[2,1].set_title('MAPE Std')\n",
    "ax[2,1].plot(final_scores_2['mape_std'], marker='o', mfc='r')\n",
    "plt.show()"
   ]
  },
  {
   "cell_type": "markdown",
   "metadata": {},
   "source": [
    "#### The `worst performing model` is clearly with `degree 3` as:\n",
    "- As the `r2 score` is out of the ideal range i.e [0,1] also way `lower` than any other model\n",
    "- The `MAPE` is `>2` which means that the errors are `much greater` then the actual values\n",
    "- Also the `MAE` is also `highest` among all the models\n",
    "- The `spread` (standard deviation) of all the performance martix is also `very high` which means that the results of the data is `highly sensitive` towards the data selection "
   ]
  },
  {
   "cell_type": "markdown",
   "metadata": {},
   "source": [
    "### Other Models between the `degree 4-8`\n",
    "- All these models almost have the same performance which is mean after the model with `degree 4` we are just `increasing the complexity and the features` of the model\n",
    "- Also all the models have an negative `r2 score` means that the model doesn't fit the data well and is `performing worse than a navie model`\n",
    "- The `MAPE` is `>2.5 approx` which mean the erros are `2.5 times greater` then the actual values"
   ]
  },
  {
   "cell_type": "markdown",
   "metadata": {},
   "source": [
    "#### The `best performing model` is with `degree 1 and 2` as:\n",
    "- Both the models are almost same however the model with `degree 1` have better performance\n",
    "- Also , the `less complex` model we should definately go for the model with `degree 1`\n",
    "- Moreover, The `spread` of the matrics are also `very less` which means the model give almost the `same performance` irrespective of the dataset distribution selection"
   ]
  }
 ],
 "metadata": {
  "kernelspec": {
   "display_name": "CSCN8010_classic_ml",
   "language": "python",
   "name": "cscn8010_classic_ml"
  },
  "language_info": {
   "codemirror_mode": {
    "name": "ipython",
    "version": 3
   },
   "file_extension": ".py",
   "mimetype": "text/x-python",
   "name": "python",
   "nbconvert_exporter": "python",
   "pygments_lexer": "ipython3",
   "version": "3.11.5"
  }
 },
 "nbformat": 4,
 "nbformat_minor": 2
}
