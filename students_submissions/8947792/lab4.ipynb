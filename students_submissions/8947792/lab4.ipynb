{
 "cells": [
  {
   "cell_type": "markdown",
   "metadata": {},
   "source": [
    "# Lab __4__\n",
    "## Name: __Jay lunia__\n",
    "## Student ID: __8947792__"
   ]
  },
  {
   "cell_type": "code",
   "execution_count": 1,
   "metadata": {},
   "outputs": [],
   "source": [
    "# Importing the necessary libraries\n",
    "\n",
    "# Basic library\n",
    "import numpy as np\n",
    "\n",
    "# For Visualization\n",
    "import matplotlib.pyplot as plt\n",
    "import seaborn as sns\n",
    "\n",
    "# For loading the dataset\n",
    "from sklearn import datasets\n",
    "\n",
    "# For val train test split\n",
    "from sklearn.model_selection import train_test_split\n",
    "\n",
    "# For Modeling\n",
    "from sklearn.linear_model import LinearRegression\n",
    "\n",
    "# For getting polynomialFeatures\n",
    "from sklearn.preprocessing import PolynomialFeatures\n",
    "\n",
    "# For Making Pipeline\n",
    "from sklearn.pipeline import Pipeline\n",
    "\n",
    "# For Reviewing all the models \n",
    "from sklearn.metrics import mean_absolute_error , mean_absolute_percentage_error , r2_score\n"
   ]
  },
  {
   "cell_type": "markdown",
   "metadata": {},
   "source": [
    "## My machine Learning Project flow Machine Learning projects\n",
    "\n",
    "1. <a href='#s-1'>Get the data, and run a train-validation-test split</a>\n",
    "2. <a href='#s-2'>Run a multivariate linear regression on all variables. </a>\n",
    "3. <a href='#s-3'> Run a polynomial regression of the 2nd degree on the BMI feature alone</a>\n",
    "4. <a href='#s-4'> Run a multivariate polynomial regression of the 2nd degree on all variables. </a>\n",
    "5. <a href='#s-5'>Compare the three models by looking at R-squared, MAPE and MAE.</a>\n",
    "6. <a href='#s-6'>Please answer the following questions.</a>"
   ]
  },
  {
   "cell_type": "markdown",
   "metadata": {},
   "source": [
    "## Loading the dataset"
   ]
  },
  {
   "cell_type": "code",
   "execution_count": 2,
   "metadata": {},
   "outputs": [],
   "source": [
    "X, y = datasets.load_diabetes(return_X_y=True, as_frame=True , scaled=True) \n",
    "# returns 2 dataframes \n",
    "# 1. X(indepedent values) \n",
    "# 2. y(depedent value)"
   ]
  },
  {
   "cell_type": "code",
   "execution_count": 3,
   "metadata": {},
   "outputs": [
    {
     "data": {
      "text/html": [
       "<div>\n",
       "<style scoped>\n",
       "    .dataframe tbody tr th:only-of-type {\n",
       "        vertical-align: middle;\n",
       "    }\n",
       "\n",
       "    .dataframe tbody tr th {\n",
       "        vertical-align: top;\n",
       "    }\n",
       "\n",
       "    .dataframe thead th {\n",
       "        text-align: right;\n",
       "    }\n",
       "</style>\n",
       "<table border=\"1\" class=\"dataframe\">\n",
       "  <thead>\n",
       "    <tr style=\"text-align: right;\">\n",
       "      <th></th>\n",
       "      <th>age</th>\n",
       "      <th>sex</th>\n",
       "      <th>bmi</th>\n",
       "      <th>bp</th>\n",
       "      <th>s1</th>\n",
       "      <th>s2</th>\n",
       "      <th>s3</th>\n",
       "      <th>s4</th>\n",
       "      <th>s5</th>\n",
       "      <th>s6</th>\n",
       "    </tr>\n",
       "  </thead>\n",
       "  <tbody>\n",
       "    <tr>\n",
       "      <th>0</th>\n",
       "      <td>0.038076</td>\n",
       "      <td>0.050680</td>\n",
       "      <td>0.061696</td>\n",
       "      <td>0.021872</td>\n",
       "      <td>-0.044223</td>\n",
       "      <td>-0.034821</td>\n",
       "      <td>-0.043401</td>\n",
       "      <td>-0.002592</td>\n",
       "      <td>0.019907</td>\n",
       "      <td>-0.017646</td>\n",
       "    </tr>\n",
       "    <tr>\n",
       "      <th>1</th>\n",
       "      <td>-0.001882</td>\n",
       "      <td>-0.044642</td>\n",
       "      <td>-0.051474</td>\n",
       "      <td>-0.026328</td>\n",
       "      <td>-0.008449</td>\n",
       "      <td>-0.019163</td>\n",
       "      <td>0.074412</td>\n",
       "      <td>-0.039493</td>\n",
       "      <td>-0.068332</td>\n",
       "      <td>-0.092204</td>\n",
       "    </tr>\n",
       "    <tr>\n",
       "      <th>2</th>\n",
       "      <td>0.085299</td>\n",
       "      <td>0.050680</td>\n",
       "      <td>0.044451</td>\n",
       "      <td>-0.005670</td>\n",
       "      <td>-0.045599</td>\n",
       "      <td>-0.034194</td>\n",
       "      <td>-0.032356</td>\n",
       "      <td>-0.002592</td>\n",
       "      <td>0.002861</td>\n",
       "      <td>-0.025930</td>\n",
       "    </tr>\n",
       "    <tr>\n",
       "      <th>3</th>\n",
       "      <td>-0.089063</td>\n",
       "      <td>-0.044642</td>\n",
       "      <td>-0.011595</td>\n",
       "      <td>-0.036656</td>\n",
       "      <td>0.012191</td>\n",
       "      <td>0.024991</td>\n",
       "      <td>-0.036038</td>\n",
       "      <td>0.034309</td>\n",
       "      <td>0.022688</td>\n",
       "      <td>-0.009362</td>\n",
       "    </tr>\n",
       "    <tr>\n",
       "      <th>4</th>\n",
       "      <td>0.005383</td>\n",
       "      <td>-0.044642</td>\n",
       "      <td>-0.036385</td>\n",
       "      <td>0.021872</td>\n",
       "      <td>0.003935</td>\n",
       "      <td>0.015596</td>\n",
       "      <td>0.008142</td>\n",
       "      <td>-0.002592</td>\n",
       "      <td>-0.031988</td>\n",
       "      <td>-0.046641</td>\n",
       "    </tr>\n",
       "  </tbody>\n",
       "</table>\n",
       "</div>"
      ],
      "text/plain": [
       "        age       sex       bmi        bp        s1        s2        s3   \n",
       "0  0.038076  0.050680  0.061696  0.021872 -0.044223 -0.034821 -0.043401  \\\n",
       "1 -0.001882 -0.044642 -0.051474 -0.026328 -0.008449 -0.019163  0.074412   \n",
       "2  0.085299  0.050680  0.044451 -0.005670 -0.045599 -0.034194 -0.032356   \n",
       "3 -0.089063 -0.044642 -0.011595 -0.036656  0.012191  0.024991 -0.036038   \n",
       "4  0.005383 -0.044642 -0.036385  0.021872  0.003935  0.015596  0.008142   \n",
       "\n",
       "         s4        s5        s6  \n",
       "0 -0.002592  0.019907 -0.017646  \n",
       "1 -0.039493 -0.068332 -0.092204  \n",
       "2 -0.002592  0.002861 -0.025930  \n",
       "3  0.034309  0.022688 -0.009362  \n",
       "4 -0.002592 -0.031988 -0.046641  "
      ]
     },
     "execution_count": 3,
     "metadata": {},
     "output_type": "execute_result"
    }
   ],
   "source": [
    "X.head()"
   ]
  },
  {
   "cell_type": "code",
   "execution_count": 4,
   "metadata": {},
   "outputs": [
    {
     "data": {
      "text/plain": [
       "0    151.0\n",
       "1     75.0\n",
       "2    141.0\n",
       "3    206.0\n",
       "4    135.0\n",
       "Name: target, dtype: float64"
      ]
     },
     "execution_count": 4,
     "metadata": {},
     "output_type": "execute_result"
    }
   ],
   "source": [
    "y.head()"
   ]
  },
  {
   "cell_type": "code",
   "execution_count": 5,
   "metadata": {},
   "outputs": [
    {
     "data": {
      "text/plain": [
       "((442, 10), (442,))"
      ]
     },
     "execution_count": 5,
     "metadata": {},
     "output_type": "execute_result"
    }
   ],
   "source": [
    "X.shape , y.shape # There are total 442 rows in the dataset"
   ]
  },
  {
   "cell_type": "markdown",
   "metadata": {},
   "source": [
    "## <div id='s-1'>1. Get the data, and run a train-validation-test split</div>"
   ]
  },
  {
   "cell_type": "code",
   "execution_count": 6,
   "metadata": {},
   "outputs": [],
   "source": [
    "X_train, X_test, y_train, y_test = train_test_split(X, y, test_size=0.2, random_state=42)\n",
    "\n",
    "X_train, X_val, y_train, y_val = train_test_split(X_train, y_train, test_size=0.2, random_state=42) "
   ]
  },
  {
   "cell_type": "markdown",
   "metadata": {},
   "source": [
    "## <div id='s-2'> 2. Run a multivariate linear regression on all variables. <div>"
   ]
  },
  {
   "cell_type": "code",
   "execution_count": 7,
   "metadata": {},
   "outputs": [
    {
     "data": {
      "text/html": [
       "<style>#sk-container-id-1 {color: black;}#sk-container-id-1 pre{padding: 0;}#sk-container-id-1 div.sk-toggleable {background-color: white;}#sk-container-id-1 label.sk-toggleable__label {cursor: pointer;display: block;width: 100%;margin-bottom: 0;padding: 0.3em;box-sizing: border-box;text-align: center;}#sk-container-id-1 label.sk-toggleable__label-arrow:before {content: \"▸\";float: left;margin-right: 0.25em;color: #696969;}#sk-container-id-1 label.sk-toggleable__label-arrow:hover:before {color: black;}#sk-container-id-1 div.sk-estimator:hover label.sk-toggleable__label-arrow:before {color: black;}#sk-container-id-1 div.sk-toggleable__content {max-height: 0;max-width: 0;overflow: hidden;text-align: left;background-color: #f0f8ff;}#sk-container-id-1 div.sk-toggleable__content pre {margin: 0.2em;color: black;border-radius: 0.25em;background-color: #f0f8ff;}#sk-container-id-1 input.sk-toggleable__control:checked~div.sk-toggleable__content {max-height: 200px;max-width: 100%;overflow: auto;}#sk-container-id-1 input.sk-toggleable__control:checked~label.sk-toggleable__label-arrow:before {content: \"▾\";}#sk-container-id-1 div.sk-estimator input.sk-toggleable__control:checked~label.sk-toggleable__label {background-color: #d4ebff;}#sk-container-id-1 div.sk-label input.sk-toggleable__control:checked~label.sk-toggleable__label {background-color: #d4ebff;}#sk-container-id-1 input.sk-hidden--visually {border: 0;clip: rect(1px 1px 1px 1px);clip: rect(1px, 1px, 1px, 1px);height: 1px;margin: -1px;overflow: hidden;padding: 0;position: absolute;width: 1px;}#sk-container-id-1 div.sk-estimator {font-family: monospace;background-color: #f0f8ff;border: 1px dotted black;border-radius: 0.25em;box-sizing: border-box;margin-bottom: 0.5em;}#sk-container-id-1 div.sk-estimator:hover {background-color: #d4ebff;}#sk-container-id-1 div.sk-parallel-item::after {content: \"\";width: 100%;border-bottom: 1px solid gray;flex-grow: 1;}#sk-container-id-1 div.sk-label:hover label.sk-toggleable__label {background-color: #d4ebff;}#sk-container-id-1 div.sk-serial::before {content: \"\";position: absolute;border-left: 1px solid gray;box-sizing: border-box;top: 0;bottom: 0;left: 50%;z-index: 0;}#sk-container-id-1 div.sk-serial {display: flex;flex-direction: column;align-items: center;background-color: white;padding-right: 0.2em;padding-left: 0.2em;position: relative;}#sk-container-id-1 div.sk-item {position: relative;z-index: 1;}#sk-container-id-1 div.sk-parallel {display: flex;align-items: stretch;justify-content: center;background-color: white;position: relative;}#sk-container-id-1 div.sk-item::before, #sk-container-id-1 div.sk-parallel-item::before {content: \"\";position: absolute;border-left: 1px solid gray;box-sizing: border-box;top: 0;bottom: 0;left: 50%;z-index: -1;}#sk-container-id-1 div.sk-parallel-item {display: flex;flex-direction: column;z-index: 1;position: relative;background-color: white;}#sk-container-id-1 div.sk-parallel-item:first-child::after {align-self: flex-end;width: 50%;}#sk-container-id-1 div.sk-parallel-item:last-child::after {align-self: flex-start;width: 50%;}#sk-container-id-1 div.sk-parallel-item:only-child::after {width: 0;}#sk-container-id-1 div.sk-dashed-wrapped {border: 1px dashed gray;margin: 0 0.4em 0.5em 0.4em;box-sizing: border-box;padding-bottom: 0.4em;background-color: white;}#sk-container-id-1 div.sk-label label {font-family: monospace;font-weight: bold;display: inline-block;line-height: 1.2em;}#sk-container-id-1 div.sk-label-container {text-align: center;}#sk-container-id-1 div.sk-container {/* jupyter's `normalize.less` sets `[hidden] { display: none; }` but bootstrap.min.css set `[hidden] { display: none !important; }` so we also need the `!important` here to be able to override the default hidden behavior on the sphinx rendered scikit-learn.org. See: https://github.com/scikit-learn/scikit-learn/issues/21755 */display: inline-block !important;position: relative;}#sk-container-id-1 div.sk-text-repr-fallback {display: none;}</style><div id=\"sk-container-id-1\" class=\"sk-top-container\"><div class=\"sk-text-repr-fallback\"><pre>LinearRegression()</pre><b>In a Jupyter environment, please rerun this cell to show the HTML representation or trust the notebook. <br />On GitHub, the HTML representation is unable to render, please try loading this page with nbviewer.org.</b></div><div class=\"sk-container\" hidden><div class=\"sk-item\"><div class=\"sk-estimator sk-toggleable\"><input class=\"sk-toggleable__control sk-hidden--visually\" id=\"sk-estimator-id-1\" type=\"checkbox\" checked><label for=\"sk-estimator-id-1\" class=\"sk-toggleable__label sk-toggleable__label-arrow\">LinearRegression</label><div class=\"sk-toggleable__content\"><pre>LinearRegression()</pre></div></div></div></div></div>"
      ],
      "text/plain": [
       "LinearRegression()"
      ]
     },
     "execution_count": 7,
     "metadata": {},
     "output_type": "execute_result"
    }
   ],
   "source": [
    "model_all = LinearRegression()\n",
    "model_all.fit(X_train,y_train)"
   ]
  },
  {
   "cell_type": "code",
   "execution_count": 8,
   "metadata": {},
   "outputs": [],
   "source": [
    "# Make predictions using the testing set\n",
    "y_pred_all = model_all.predict(X_val)\n",
    "y_pred_train_all = model_all.predict(X_train)"
   ]
  },
  {
   "cell_type": "code",
   "execution_count": 9,
   "metadata": {},
   "outputs": [
    {
     "name": "stdout",
     "output_type": "stream",
     "text": [
      "Coefficients or the Slope(m) of the model is: \n",
      "age\t 7.036665297940638\n",
      "sex\t -246.7830631166965\n",
      "bmi\t 547.2488809813499\n",
      "bp\t 324.79496318746726\n",
      "s1\t -921.9697261034764\n",
      "s2\t 472.19859546224876\n",
      "s3\t 172.5253759472494\n",
      "s4\t 292.87021204245366\n",
      "s5\t 764.6428005649659\n",
      "s6\t 83.23467618359632\n",
      "intercept(c) of the model is: \t 147.8363360547508\n",
      "Equation:  y = 147.84+ 7.04x^1+ -246.78x^2+ 547.25x^3+ 324.79x^4+ -921.97x^5+ 472.20x^6+ 172.53x^7+ 292.87x^8+ 764.64x^9+ 83.23x^10\n"
     ]
    }
   ],
   "source": [
    "# The coefficients and intercept\n",
    "print('Coefficients or the Slope(m) of the model is: ')\n",
    "cols = X.columns\n",
    "equ =  f\"y = {model_all.intercept_:.2f}\"\n",
    "for i,j in  enumerate(model_all.coef_):\n",
    "    print(f'{cols[i]}\\t {j}')\n",
    "    equ += f'+ {j:.2f}x^{i+1}'\n",
    "print('intercept(c) of the model is: \\t',model_all.intercept_)\n",
    "print('Equation: ',equ)"
   ]
  },
  {
   "cell_type": "markdown",
   "metadata": {},
   "source": [
    "### Making Functions for:\n",
    "- PolynomialFeatures (degree =2)\n",
    "- Building the model\n",
    "- Calculating the intercept , coefficients and equations\n",
    "- for visualization"
   ]
  },
  {
   "cell_type": "code",
   "execution_count": 10,
   "metadata": {},
   "outputs": [],
   "source": [
    "# Making function for building a pipeline\n",
    "def makeModelPipe(X_data,y_data):\n",
    "    model = Pipeline([('polynomial', PolynomialFeatures(degree=2 , include_bias=False)), \n",
    "                    ('linear', LinearRegression())])\n",
    "    return model.fit(X_data, y_data)"
   ]
  },
  {
   "cell_type": "code",
   "execution_count": 11,
   "metadata": {},
   "outputs": [],
   "source": [
    "# The coefficients and intercept\n",
    "def getEqu(model):\n",
    "    print('Coefficients or the Slope(m) of the model is: ')\n",
    "    equ =  f\"y = {model[1].intercept_:.2f}\"\n",
    "    for i,j in  enumerate(model[1].coef_[1:]):\n",
    "        print(f'{i}\\t {j}')\n",
    "        equ += f'+ {j:.2f}x^{i+1}'\n",
    "    print('intercept(c) of the model is: \\t',model[1].intercept_)\n",
    "    print('Equation: ',equ)"
   ]
  },
  {
   "cell_type": "code",
   "execution_count": 12,
   "metadata": {},
   "outputs": [],
   "source": [
    "# making function for visualization\n",
    "def plot_model(X, y, model):\n",
    "    # Calculate the number of rows and columns for the subplots\n",
    "    X_lin = np.linspace(min(X), max(X), 100)\n",
    "    plt.figure(figsize=[15,7])\n",
    "    plt.title('')\n",
    "    plt.scatter(X, y, s=20, label=\"data\")\n",
    "    plt.plot(X_lin, model.predict(X_lin),color='r', label=\"Model\", lw=3)\n",
    "    plt.xlabel(\"data\")\n",
    "    plt.ylabel(\"target\")\n",
    "    plt.legend()\n",
    "    plt.show()"
   ]
  },
  {
   "cell_type": "markdown",
   "metadata": {},
   "source": [
    "## <div id='s-3'>3. Run a polynomial regression of the 2nd degree on the `BMI` feature alone</div>"
   ]
  },
  {
   "cell_type": "code",
   "execution_count": 13,
   "metadata": {},
   "outputs": [],
   "source": [
    "# Getting only the bmi data\n",
    "X_train_bmi = np.array(X_train['bmi']).reshape(-1,1)\n",
    "X_val_bmi = np.array(X_val['bmi']).reshape(-1,1)"
   ]
  },
  {
   "cell_type": "code",
   "execution_count": 14,
   "metadata": {},
   "outputs": [],
   "source": [
    "# Make predictions using the testing set\n",
    "model_bmi = makeModelPipe(X_train_bmi,y_train)\n",
    "y_pred_bmi = model_bmi.predict(X_val_bmi)\n",
    "y_pred_train_bmi = model_bmi.predict(X_train_bmi)\n"
   ]
  },
  {
   "cell_type": "code",
   "execution_count": 15,
   "metadata": {},
   "outputs": [
    {
     "name": "stdout",
     "output_type": "stream",
     "text": [
      "Coefficients or the Slope(m) of the model is: \n",
      "0\t 1730.6846464001203\n",
      "intercept(c) of the model is: \t 145.04962845704273\n",
      "Equation:  y = 145.05+ 1730.68x^1\n"
     ]
    }
   ],
   "source": [
    "getEqu(model_bmi)"
   ]
  },
  {
   "cell_type": "code",
   "execution_count": 16,
   "metadata": {},
   "outputs": [
    {
     "data": {
      "image/png": "[encoded data removed]",
      "text/plain": [
       "<Figure size 1500x700 with 1 Axes>"
      ]
     },
     "metadata": {},
     "output_type": "display_data"
    }
   ],
   "source": [
    "plot_model(X_train_bmi,y_train,model_bmi)"
   ]
  },
  {
   "cell_type": "markdown",
   "metadata": {},
   "source": [
    "## <div id = 's-4'> 4. Run a multivariate polynomial regression of the 2nd degree on all variables. </div>"
   ]
  },
  {
   "cell_type": "code",
   "execution_count": 17,
   "metadata": {},
   "outputs": [],
   "source": [
    "# Make predictions using the testing set\n",
    "model_ploy_all = makeModelPipe(X_train,y_train)\n",
    "y_pred_ploy_all = model_ploy_all.predict(X_val)\n",
    "y_pred_train_ploy_all = model_ploy_all.predict(X_train)"
   ]
  },
  {
   "cell_type": "code",
   "execution_count": 18,
   "metadata": {},
   "outputs": [
    {
     "name": "stdout",
     "output_type": "stream",
     "text": [
      "Coefficients or the Slope(m) of the model is: \n",
      "0\t -294.2859139093853\n",
      "1\t 419.250776363343\n",
      "2\t 373.98102056357015\n",
      "3\t 4443.348521432445\n",
      "4\t -4117.838190219827\n",
      "5\t -1899.2028859037473\n",
      "6\t 142.32089386155633\n",
      "7\t -816.3953733760126\n",
      "8\t 35.27746470853572\n",
      "9\t 2738.591227848414\n",
      "10\t 1976.6571896429482\n",
      "11\t -532.1616544186325\n",
      "12\t 793.6134071015756\n",
      "13\t -5275.030938462588\n",
      "14\t -4391.789545967025\n",
      "15\t 7196.438864634534\n",
      "16\t 8304.097899075303\n",
      "17\t 2948.7673833659687\n",
      "18\t 323.5061560404664\n",
      "19\t -1.777040256263831\n",
      "20\t 663.1755444658797\n",
      "21\t 1903.523760526171\n",
      "22\t 12413.643753182916\n",
      "23\t -5460.869326647549\n",
      "24\t -8251.882225103702\n",
      "25\t -10102.474887320725\n",
      "26\t -3496.209358265506\n",
      "27\t 421.3315779024688\n",
      "28\t 1867.7133016297257\n",
      "29\t 3535.7536603061253\n",
      "30\t -15290.636049495839\n",
      "31\t 15623.012538283532\n",
      "32\t 5253.0480168743115\n",
      "33\t -3454.532471000127\n",
      "34\t 7063.223893722994\n",
      "35\t 384.51994252490476\n",
      "36\t -137.86926909195608\n",
      "37\t 28925.247496504275\n",
      "38\t -22307.254339887873\n",
      "39\t -12777.386203501268\n",
      "40\t -1535.5952869106595\n",
      "41\t -12078.985760991134\n",
      "42\t -3067.321330645774\n",
      "43\t 35197.9035163119\n",
      "44\t -73294.38923228912\n",
      "45\t 24319.912248326662\n",
      "46\t 33896.653613951115\n",
      "47\t -67689.15815281213\n",
      "48\t -15233.858783559677\n",
      "49\t 39645.31402409187\n",
      "50\t -20471.37369382809\n",
      "51\t -39674.24350419907\n",
      "52\t 63177.844988374076\n",
      "53\t 10424.716025611013\n",
      "54\t -13691.606267763691\n",
      "55\t -12108.775846983295\n",
      "56\t 10120.040286954405\n",
      "57\t 9403.760504315691\n",
      "58\t 7822.666618644427\n",
      "59\t -14817.178062309358\n",
      "60\t 5333.708288009767\n",
      "61\t 8781.094184162439\n",
      "62\t 10427.952905679787\n",
      "63\t 135.72510277841593\n",
      "intercept(c) of the model is: \t 154.46221113756997\n",
      "Equation:  y = 154.46+ -294.29x^1+ 419.25x^2+ 373.98x^3+ 4443.35x^4+ -4117.84x^5+ -1899.20x^6+ 142.32x^7+ -816.40x^8+ 35.28x^9+ 2738.59x^10+ 1976.66x^11+ -532.16x^12+ 793.61x^13+ -5275.03x^14+ -4391.79x^15+ 7196.44x^16+ 8304.10x^17+ 2948.77x^18+ 323.51x^19+ -1.78x^20+ 663.18x^21+ 1903.52x^22+ 12413.64x^23+ -5460.87x^24+ -8251.88x^25+ -10102.47x^26+ -3496.21x^27+ 421.33x^28+ 1867.71x^29+ 3535.75x^30+ -15290.64x^31+ 15623.01x^32+ 5253.05x^33+ -3454.53x^34+ 7063.22x^35+ 384.52x^36+ -137.87x^37+ 28925.25x^38+ -22307.25x^39+ -12777.39x^40+ -1535.60x^41+ -12078.99x^42+ -3067.32x^43+ 35197.90x^44+ -73294.39x^45+ 24319.91x^46+ 33896.65x^47+ -67689.16x^48+ -15233.86x^49+ 39645.31x^50+ -20471.37x^51+ -39674.24x^52+ 63177.84x^53+ 10424.72x^54+ -13691.61x^55+ -12108.78x^56+ 10120.04x^57+ 9403.76x^58+ 7822.67x^59+ -14817.18x^60+ 5333.71x^61+ 8781.09x^62+ 10427.95x^63+ 135.73x^64\n"
     ]
    }
   ],
   "source": [
    "getEqu(model_ploy_all)"
   ]
  },
  {
   "cell_type": "markdown",
   "metadata": {},
   "source": [
    "## <div id='s-5'>5. Compare the three models by looking at R-squared, MAPE and MAE.</div>"
   ]
  },
  {
   "cell_type": "code",
   "execution_count": 19,
   "metadata": {},
   "outputs": [],
   "source": [
    "def getMetrics(y,y_pred):\n",
    "    print(f'Mean Absolute Precentage error: {(mean_absolute_percentage_error(y, y_pred)*100):.2f}%')\n",
    "    print(f'Mean Absolute error: {mean_absolute_error(y, y_pred):.2f}')\n",
    "    print(f'The model is preforming {r2_score(y,y_pred)*100:.2f}% better than a navie model')\n"
   ]
  },
  {
   "cell_type": "code",
   "execution_count": 20,
   "metadata": {},
   "outputs": [
    {
     "name": "stdout",
     "output_type": "stream",
     "text": [
      "===================== On Training Data ==========================\n",
      "==================================================\n",
      "For multi Linear Regression model\n",
      "Mean Absolute Precentage error: 39.97%\n",
      "Mean Absolute error: 43.31\n",
      "The model is preforming 53.06% better than a navie model\n",
      "==================================================\n",
      "\n",
      "==================================================\n",
      "For Polynomial Regession model on BMI\n",
      "Mean Absolute Precentage error: 48.05%\n",
      "Mean Absolute error: 50.84\n",
      "The model is preforming 37.32% better than a navie model\n",
      "==================================================\n",
      "\n",
      "==================================================\n",
      "For Polynomial Regession model on All data\n",
      "Mean Absolute Precentage error: 34.75%\n",
      "Mean Absolute error: 38.45\n",
      "The model is preforming 62.25% better than a navie model\n",
      "==================================================\n",
      "\n"
     ]
    }
   ],
   "source": [
    "# Comparing all the models on training data\n",
    "print(f'===================== On Training Data ==========================')\n",
    "_ = 50\n",
    "print('='*_)\n",
    "print('For multi Linear Regression model')\n",
    "getMetrics(y_train,y_pred_train_all)\n",
    "print('='*_,end = '\\n\\n')\n",
    "\n",
    "print('='*_)\n",
    "print('For Polynomial Regession model on BMI')\n",
    "getMetrics(y_train,y_pred_train_bmi)\n",
    "print('='*_,end = '\\n\\n')\n",
    "\n",
    "print('='*_)\n",
    "print('For Polynomial Regession model on All data')\n",
    "getMetrics(y_train,y_pred_train_ploy_all)\n",
    "print('='*_,end = '\\n\\n')"
   ]
  },
  {
   "cell_type": "code",
   "execution_count": 21,
   "metadata": {},
   "outputs": [
    {
     "name": "stdout",
     "output_type": "stream",
     "text": [
      "===================== On Validation Data ==========================\n",
      "==================================================\n",
      "For multi Linear Regression model\n",
      "Mean Absolute Precentage error: 30.31%\n",
      "Mean Absolute error: 44.59\n",
      "The model is preforming 47.01% better than a navie model\n",
      "==================================================\n",
      "\n",
      "==================================================\n",
      "For Polynomial Regession model on BMI\n",
      "Mean Absolute Precentage error: 38.64%\n",
      "Mean Absolute error: 52.17\n",
      "The model is preforming 28.33% better than a navie model\n",
      "==================================================\n",
      "\n",
      "==================================================\n",
      "For Polynomial Regession model on All data\n",
      "Mean Absolute Precentage error: 30.38%\n",
      "Mean Absolute error: 46.53\n",
      "The model is preforming 34.34% better than a navie model\n",
      "==================================================\n",
      "\n"
     ]
    }
   ],
   "source": [
    "# Comparing all the models on Validation data\n",
    "print(f'===================== On Validation Data ==========================')\n",
    "_ = 50\n",
    "print('='*_)\n",
    "print('For multi Linear Regression model')\n",
    "getMetrics(y_val,y_pred_all)\n",
    "print('='*_,end = '\\n\\n')\n",
    "\n",
    "print('='*_)\n",
    "print('For Polynomial Regession model on BMI')\n",
    "getMetrics(y_val,y_pred_bmi)\n",
    "print('='*_,end = '\\n\\n')\n",
    "\n",
    "print('='*_)\n",
    "print('For Polynomial Regession model on All data')\n",
    "getMetrics(y_val,y_pred_ploy_all)\n",
    "print('='*_,end = '\\n\\n')"
   ]
  },
  {
   "cell_type": "code",
   "execution_count": 22,
   "metadata": {},
   "outputs": [
    {
     "name": "stdout",
     "output_type": "stream",
     "text": [
      "===================== On Test Data ==========================\n",
      "==================================================\n",
      "For multi Linear Regression model\n",
      "Mean Absolute Precentage error: 36.83%\n",
      "Mean Absolute error: 42.91\n",
      "The model is preforming 45.06% better than a navie model\n",
      "==================================================\n",
      "\n",
      "==================================================\n",
      "For Polynomial Regession model on BMI\n",
      "Mean Absolute Precentage error: 44.85%\n",
      "Mean Absolute error: 52.31\n",
      "The model is preforming 21.70% better than a navie model\n",
      "==================================================\n",
      "\n",
      "==================================================\n",
      "For Polynomial Regession model on All data\n",
      "Mean Absolute Precentage error: 38.45%\n",
      "Mean Absolute error: 45.84\n",
      "The model is preforming 35.02% better than a navie model\n",
      "==================================================\n",
      "\n"
     ]
    }
   ],
   "source": [
    "# Comparing all the models on Test data\n",
    "print(f'===================== On Test Data ==========================')\n",
    "_ = 50\n",
    "print('='*_)\n",
    "print('For multi Linear Regression model')\n",
    "y_pred_test_all = model_all.predict(X_test)\n",
    "getMetrics(y_test,y_pred_test_all)\n",
    "print('='*_,end = '\\n\\n')\n",
    "\n",
    "print('='*_)\n",
    "print('For Polynomial Regession model on BMI')\n",
    "y_pred_test_bmi = model_bmi.predict(np.array(X_test['bmi']).reshape(-1,1))\n",
    "getMetrics(y_test,y_pred_test_bmi)\n",
    "print('='*_,end = '\\n\\n')\n",
    "\n",
    "print('='*_)\n",
    "print('For Polynomial Regession model on All data')\n",
    "y_pred_test_ploy_all = model_ploy_all.predict(X_test)\n",
    "getMetrics(y_test,y_pred_test_ploy_all)\n",
    "print('='*_,end = '\\n\\n')"
   ]
  },
  {
   "cell_type": "markdown",
   "metadata": {},
   "source": [
    "### Insights\n",
    "1. __Multi Variant Linear Regression__\n",
    "    - This model is `best performing` among all the three\n",
    "    - As the `r2 score` of the model `performed similar` for the test and validation data\n",
    "    - also, the `MAPE` and `MAE` is also the `lowest` as compared to other models\n",
    "\n",
    "2. __Polynomial Regression of 2nd Degree on BMI__\n",
    "    - This is the worst preformed model when compared to other 2 on the basis of `r2 score`\n",
    "    - However the model showed a `consistent results` for the test and validation data\n",
    "    - the `MAPE` and `MAE` is also the `highest` as compared to other models\n",
    "\n",
    "3. __Multivariate Polynomial Regression of 2nd Degree__\n",
    "    - The model got `overfitted` on the training data\n",
    "    - However, the model `performed average` for the test and validation data\n"
   ]
  },
  {
   "cell_type": "markdown",
   "metadata": {},
   "source": [
    "## <div id='s-6'>6. Please answer the following questions.</div>"
   ]
  },
  {
   "cell_type": "markdown",
   "metadata": {},
   "source": [
    "### 1. How many parameters are we fitting for each of the three models? Explain these values."
   ]
  },
  {
   "cell_type": "markdown",
   "metadata": {},
   "source": [
    "1. __Multi Variant Linear Regression__ : `11 parameters`\n",
    "    - __X__ (Independent) values = `10 parameters`\n",
    "    - __Y__ (Dependent) values = `1 parameter`\n",
    "    - __Total__ : `11 parameters`"
   ]
  },
  {
   "cell_type": "code",
   "execution_count": 23,
   "metadata": {},
   "outputs": [
    {
     "data": {
      "text/plain": [
       "11"
      ]
     },
     "execution_count": 23,
     "metadata": {},
     "output_type": "execute_result"
    }
   ],
   "source": [
    "len(model_all.coef_) + 1 #intercept"
   ]
  },
  {
   "cell_type": "markdown",
   "metadata": {},
   "source": [
    "2. __Polynomial Regression of 2nd Degree on BMI__ : `3 parameters`\n",
    "    - __X__ (Independent) values = `2 parameters`\n",
    "    - Intercept value = `1 parameter`\n",
    "    - __Total__ : `3 parameters`"
   ]
  },
  {
   "cell_type": "code",
   "execution_count": 24,
   "metadata": {},
   "outputs": [
    {
     "data": {
      "text/plain": [
       "3"
      ]
     },
     "execution_count": 24,
     "metadata": {},
     "output_type": "execute_result"
    }
   ],
   "source": [
    "len(model_bmi[0].get_feature_names_out()) + 1 #intercept"
   ]
  },
  {
   "cell_type": "markdown",
   "metadata": {},
   "source": [
    "3. __Multivariate Polynomial Regression of 2nd Degree__ : `65 parameters`\n",
    "    - __X__ (Independent) values = `65 parameters`\n",
    "    - Intercept value = `1 parameter`\n",
    "    - __Total__ : `66 parameters`"
   ]
  },
  {
   "cell_type": "code",
   "execution_count": 25,
   "metadata": {},
   "outputs": [
    {
     "data": {
      "text/plain": [
       "66"
      ]
     },
     "execution_count": 25,
     "metadata": {},
     "output_type": "execute_result"
    }
   ],
   "source": [
    "len(model_ploy_all[0].get_feature_names_out()) + 1 #intercept"
   ]
  },
  {
   "cell_type": "markdown",
   "metadata": {},
   "source": [
    "### 2. Which model would you choose for deployment, and why?"
   ]
  },
  {
   "cell_type": "markdown",
   "metadata": {},
   "source": [
    "#### Multi Variant Linear Regression\n",
    "- It has the `highest R-squared value` (0.4506), indicating that it explains more of the variance in the target variable compared to the other models.\n",
    "\n",
    "- The Multivariate Linear Regression has the `lowest MAPE` (36.83), indicating that, on average, its predictions are closest to the actual values.\n",
    "\n",
    "- After analyzing the results, I recommend deploying the `Multi Variant Linear Regression` model for it strikes a balance between capturing underlying patterns in the data (high R-squared) and making accurate predictions (relatively low MAE)."
   ]
  }
 ],
 "metadata": {
  "kernelspec": {
   "display_name": "CSCN8010_classic_ml",
   "language": "python",
   "name": "cscn8010_classic_ml"
  },
  "language_info": {
   "codemirror_mode": {
    "name": "ipython",
    "version": 3
   },
   "file_extension": ".py",
   "mimetype": "text/x-python",
   "name": "python",
   "nbconvert_exporter": "python",
   "pygments_lexer": "ipython3",
   "version": "3.11.5"
  }
 },
 "nbformat": 4,
 "nbformat_minor": 2
}
